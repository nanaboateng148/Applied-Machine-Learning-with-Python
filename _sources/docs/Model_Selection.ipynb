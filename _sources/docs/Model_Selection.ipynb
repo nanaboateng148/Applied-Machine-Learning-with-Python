{
 "cells": [
  {
   "cell_type": "markdown",
   "id": "4b8df368",
   "metadata": {},
   "source": [
    "(Model_Selection)=\n",
    "\n",
    "# Model Selection\n",
    "\n",
    "## Overview"
   ]
  }
 ],
 "metadata": {
  "jupytext": {
   "text_representation": {
    "extension": ".md",
    "format_name": "myst"
   }
  },
  "kernelspec": {
   "display_name": "Python 3",
   "language": "python",
   "name": "python3"
  },
  "language_info": {
   "codemirror_mode": {
    "name": "ipython",
    "version": 3
   },
   "file_extension": ".py",
   "mimetype": "text/x-python",
   "name": "python",
   "nbconvert_exporter": "python",
   "pygments_lexer": "ipython3",
   "version": "3.8.13"
  },
  "source_map": [
   10
  ]
 },
 "nbformat": 4,
 "nbformat_minor": 5
}