{
 "cells": [
  {
   "cell_type": "markdown",
   "id": "fdda05aa",
   "metadata": {},
   "source": [
    "(CausalInference)=\n",
    "\n",
    "# Causal Inference\n",
    "\n",
    "## Overview\n",
    "\n",
    "We\\'re now ready to start learning the Python language itself.\n",
    "\n",
    "In this lecture, we will write and then pick apart small Python\n",
    "programs."
   ]
  }
 ],
 "metadata": {
  "jupytext": {
   "text_representation": {
    "extension": ".md",
    "format_name": "myst"
   }
  },
  "kernelspec": {
   "display_name": "Python 3",
   "language": "python",
   "name": "python3"
  },
  "language_info": {
   "codemirror_mode": {
    "name": "ipython",
    "version": 3
   },
   "file_extension": ".py",
   "mimetype": "text/x-python",
   "name": "python",
   "nbconvert_exporter": "python",
   "pygments_lexer": "ipython3",
   "version": "3.8.13"
  },
  "source_map": [
   10
  ]
 },
 "nbformat": 4,
 "nbformat_minor": 5
}