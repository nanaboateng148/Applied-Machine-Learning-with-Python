{
 "cells": [
  {
   "cell_type": "markdown",
   "id": "98d899e6",
   "metadata": {},
   "source": [
    "(numpy)=\n",
    "\n",
    "# NumPy\n",
    "\n",
    "> \\\"Let\\'s be clear: the work of science has nothing whatever to do with\n",
    "> consensus. Consensus is the business of politics. Science, on the\n",
    "> contrary, requires only one investigator who happens to be right,\n",
    "> which means that he or she has results that are verifiable by\n",
    "> reference to the real world. In science consensus is irrelevant. What\n",
    "> is relevant is reproducible results.\\\" -- Michael Crichton\n",
    "\n",
    "## Overview\n",
    "\n",
    "[NumPy](https://en.wikipedia.org/wiki/NumPy) is a first-rate library for\n",
    "numerical programming\n",
    "\n",
    "-   Widely used in academia, finance and industry.\n",
    "-   Mature, fast, stable and under continuous development.\n",
    "\n",
    "We have already seen some code involving NumPy in the preceding\n",
    "lectures.\n",
    "\n",
    "In this lecture, we will start a more systematic discussion of both\n",
    "\n",
    "-   NumPy arrays and\n",
    "-   the fundamental array processing operations provided by NumPy.\n",
    "\n",
    "### References\n",
    "\n",
    "-   [The official NumPy documentation](http://docs.scipy.org/doc/numpy/reference/).\n",
    "\n",
    "(numpy_array)=\n",
    "\n",
    "## NumPy Arrays\n",
    "\n",
    "The essential problem that NumPy solves is fast array processing.\n",
    "\n",
    "The most important structure that NumPy defines is an array data type\n",
    "formally called a\n",
    "[numpy.ndarray](http://docs.scipy.org/doc/numpy/reference/arrays.ndarray.html).\n",
    "\n",
    "NumPy arrays power a large proportion of the scientific Python\n",
    "ecosystem.\n",
    "\n",
    "Let\\'s first import the library."
   ]
  },
  {
   "cell_type": "code",
   "execution_count": 1,
   "id": "7d8c5769",
   "metadata": {},
   "outputs": [],
   "source": [
    "import numpy as np"
   ]
  },
  {
   "cell_type": "markdown",
   "id": "6f8015bb",
   "metadata": {},
   "source": [
    "To create a NumPy array containing only zeros we use\n",
    "[np.zeros](http://docs.scipy.org/doc/numpy/reference/generated/numpy.zeros.html#numpy.zeros)"
   ]
  },
  {
   "cell_type": "code",
   "execution_count": 2,
   "id": "51c9b3bb",
   "metadata": {},
   "outputs": [
    {
     "data": {
      "text/plain": [
       "array([0., 0., 0., 0., 0.])"
      ]
     },
     "execution_count": 2,
     "metadata": {},
     "output_type": "execute_result"
    }
   ],
   "source": [
    "a = np.zeros(5)\n",
    "a"
   ]
  },
  {
   "cell_type": "markdown",
   "id": "f2ad1d07",
   "metadata": {},
   "source": [
    "format: jb-book\n",
    "root: docs/index\n",
    "parts:\n",
    "  - caption: Introduction to Python\n",
    "    numbered: true\n",
    "    chapters:\n",
    "    - file: docs/about_py\n",
    "    - file: docs/getting_started\n",
    "      sections:\n",
    "      - file: docs/numpy\n",
    "  - caption: Introduction to ML\n",
    "    numbered: true\n",
    "    chapters:\n",
    "    - file: docs/python_by_example\n",
    "    - file: docs/learn_more\n",
    "      sections:\n",
    "      - file: docs/pandas\n",
    "  - caption: Exploratory Data Analysis\n",
    "    numbered: true\n",
    "    chapters:\n",
    "    - file: docs/Exploratory_Data_Analysis\n",
    "\n",
    " - caption: Feature Engineering and Selection\n",
    "    numbered: true\n",
    "    chapters:\n",
    "    - file: docs/Feature_Engineering_and_Selection\n",
    "\n",
    "  - caption: Model Selection\n",
    "    numbered: true\n",
    "    chapters:\n",
    "    - file: docs/Model_Selection\n",
    "    - file: docs/Automatic_Machine_Learning\n",
    "      sections:\n",
    "      - file: docs/Model_Performance_Metrics\n",
    "\n",
    "- caption: Machine Learning for Imbalanced Data\n",
    "    numbered: true\n",
    "    chapters:\n",
    "    - file: docs/Machine_Learning_for_Imbalanced_Data\n",
    "\n",
    " - caption: Big Data Processing\n",
    "    numbered: true\n",
    "    chapters:\n",
    "    - file: docs/Big_Data_Processing\n",
    "\n",
    " - caption: Unsupervised Machine Learning\n",
    "    numbered: true\n",
    "    chapters:\n",
    "    - file: docs/AnomalyDetection\n",
    "\n",
    "- caption: Time Series Analysis\n",
    "    numbered: true\n",
    "    chapters:\n",
    "    - file: docs/Time_Series_Analysis\n",
    "\n",
    "- caption: Time to Event Models\n",
    "    numbered: true\n",
    "    chapters:\n",
    "    - file: docs/Survival_Analysis\n",
    "\n",
    "- caption: Time to Event Models\n",
    "    numbered: true\n",
    "    chapters:\n",
    "    - file: docs/Survival_Analysis\n",
    "\n",
    "\n",
    "- caption: Machine Learning for Imbalanced Data\n",
    "    numbered: true\n",
    "    chapters:\n",
    "    - file: docs/Machine_Learning_for_Imbalanced_Data\n",
    "\n",
    "- caption: Deep_Learning\n",
    "    numbered: true\n",
    "    chapters:\n",
    "    - file: docs/Deep_Learning_for_Structured_Data\n",
    "    - file: docs/Computer_Vision\n",
    "    - file: docs/Natural_Language_Processing\n",
    "\n",
    "- caption: Machine Learning Operations.\n",
    "    numbered: true\n",
    "    chapters:\n",
    "    - file: docs/Machine_Learning_Operations\n",
    "    - file: docs/Model_Deployment\n",
    "    - file: docs/Data_Validation_and_Monitoring\n",
    "\n",
    "- caption: Machine Learning Interpretability\n",
    "    numbered: true\n",
    "    chapters:\n",
    "    - file: docs/Machine_Learning_Interpretability\n",
    "    - file: docs/CausalInference"
   ]
  }
 ],
 "metadata": {
  "jupytext": {
   "text_representation": {
    "extension": ".md",
    "format_name": "myst"
   }
  },
  "kernelspec": {
   "display_name": "Python 3",
   "language": "python",
   "name": "python3"
  },
  "language_info": {
   "codemirror_mode": {
    "name": "ipython",
    "version": 3
   },
   "file_extension": ".py",
   "mimetype": "text/x-python",
   "name": "python",
   "nbconvert_exporter": "python",
   "pygments_lexer": "ipython3",
   "version": "3.9.12"
  },
  "source_map": [
   10,
   58,
   60,
   65,
   68
  ]
 },
 "nbformat": 4,
 "nbformat_minor": 5
}