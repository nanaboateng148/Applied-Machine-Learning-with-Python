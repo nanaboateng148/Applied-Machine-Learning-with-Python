{
 "cells": [
  {
   "cell_type": "markdown",
   "id": "078dfc15",
   "metadata": {},
   "source": [
    "<div class=\"copyright\" property=\"vk:rights\">&copy;\n",
    "  <span property=\"vk:dateCopyrighted\">2020</span>\n",
    "  <span property=\"vk:publisher\">B. Knaepen & Y. Velizhanina</span>\n",
    "</div>\n",
    "\n",
    "# Higher order derivatives, functions and matrix formulation"
   ]
  },
  {
   "cell_type": "markdown",
   "id": "8d0c3b5e",
   "metadata": {
    "toc": true
   },
   "source": [
    "<h1>Table of Contents<span class=\"tocSkip\"></span></h1>\n",
    "<div class=\"toc\"><ul class=\"toc-item\"><li><span><a href=\"#Introduction\" data-toc-modified-id=\"Introduction-1\"><span class=\"toc-item-num\">1&nbsp;&nbsp;</span>Introduction</a></span></li><li><span><a href=\"#Higher-order-derivatives\" data-toc-modified-id=\"Higher-order-derivatives-2\"><span class=\"toc-item-num\">2&nbsp;&nbsp;</span>Higher order derivatives</a></span><ul class=\"toc-item\"><li><span><a href=\"#Second-order-derivative\" data-toc-modified-id=\"Second-order-derivative-2.1\"><span class=\"toc-item-num\">2.1&nbsp;&nbsp;</span>Second-order derivative</a></span></li><li><span><a href=\"#Higher-order-derivatives-and-one-sided-stencils\" data-toc-modified-id=\"Higher-order-derivatives-and-one-sided-stencils-2.2\"><span class=\"toc-item-num\">2.2&nbsp;&nbsp;</span>Higher-order derivatives and one-sided stencils</a></span></li></ul></li><li><span><a href=\"#Functions\" data-toc-modified-id=\"Functions-3\"><span class=\"toc-item-num\">3&nbsp;&nbsp;</span>Functions</a></span><ul class=\"toc-item\"><li><span><a href=\"#Parameters\" data-toc-modified-id=\"Parameters-3.1\"><span class=\"toc-item-num\">3.1&nbsp;&nbsp;</span>Parameters</a></span></li><li><span><a href=\"#Return-statement\" data-toc-modified-id=\"Return-statement-3.2\"><span class=\"toc-item-num\">3.2&nbsp;&nbsp;</span>Return statement</a></span></li><li><span><a href=\"#Variable-scope\" data-toc-modified-id=\"Variable-scope-3.3\"><span class=\"toc-item-num\">3.3&nbsp;&nbsp;</span>Variable scope</a></span></li><li><span><a href=\"#Beware-passing-by-object-reference-in-Python!\" data-toc-modified-id=\"Beware-passing-by-object-reference-in-Python!-3.4\"><span class=\"toc-item-num\">3.4&nbsp;&nbsp;</span>Beware passing by object reference in Python!</a></span></li></ul></li><li><span><a href=\"#Matrix-formulation\" data-toc-modified-id=\"Matrix-formulation-4\"><span class=\"toc-item-num\">4&nbsp;&nbsp;</span>Matrix formulation</a></span></li><li><span><a href=\"#Summary\" data-toc-modified-id=\"Summary-5\"><span class=\"toc-item-num\">5&nbsp;&nbsp;</span>Summary</a></span></li></ul></div>"
   ]
  },
  {
   "cell_type": "markdown",
   "id": "5f1de5cb",
   "metadata": {},
   "source": [
    "## Introduction\n",
    "\n",
    "For convenience, we start with importing some modules needed below:"
   ]
  },
  {
   "cell_type": "code",
   "execution_count": null,
   "id": "b40a1ba5",
   "metadata": {},
   "outputs": [],
   "source": [
    "import numpy as np\n",
    "import matplotlib.pyplot as plt\n",
    "\n",
    "%matplotlib inline\n",
    "\n",
    "plt.style.use('../styles/mainstyle.use')"
   ]
  },
  {
   "cell_type": "markdown",
   "id": "c3ac1098",
   "metadata": {},
   "source": [
    "In this notebook we extend the concept of finite differences to higher-order derivatives. We also discuss the use of Python `functions` and finally we describe how to construct matrices corresponding to the finite-difference operators. This is very useful when solving boundary value problems or eigenvalue problems.\n",
    "\n",
    "## Higher order derivatives\n",
    "\n",
    "Using finite differences, we can construct derivatives up to any order. Before we discuss this, we first explicitly describe in detail the second-order derivative that is later used extensively in the course.\n",
    "\n",
    "### Second-order derivative\n",
    "\n",
    "Using Taylor's theorem we can write:\n",
    "\n",
    "\\begin{align}\n",
    "& f(x+\\Delta x) = f(x)+f'(x)\\Delta x+\\frac12 f''(x)\\Delta x^2+\\frac16 f'''(x)\\Delta x^3+O(\\Delta x^4) \\\\\n",
    "& f(x-\\Delta x) = f(x)-f'(x)\\Delta x+\\frac12 f''(x)\\Delta x^2-\\frac16 f'''(x)\\Delta x^3+O(\\Delta x^4).\n",
    "\\end{align}\n",
    "\n",
    "If we add these two equations, we can define a centered second-order accurate formula for $f''$ at grid point $x_i$:\n",
    "\n",
    "\\begin{equation}\n",
    "\\label{eq:centeredDiff2}\n",
    "f''_i=\\frac{f_{i-1}-2f_i+f_{i+1}}{\\Delta x^2}.\n",
    "\\end{equation}\n",
    "\n",
    "The stencil for this expression is the sequence $[-1,0,1]$ and we represent it as:\n",
    "\n",
    "<img width=\"600px\" src=\"../figures/centeredDiff2.png\">\n",
    "\n",
    "The centered second-order derivative cannot be used at the boundary nodes. Some one-sided formulas are needed at those locations.\n",
    "\n",
    "Let us write a Python code to check that expression \\eqref{eq:centeredDiff2} works as expected. We use the same test function as in the previous notebook - $f(x)=e^x \\sin(3\\pi x)$ - and we first represent it on a fine grid in the interval $x\\in [O, \\pi]$."
   ]
  },
  {
   "cell_type": "code",
   "execution_count": null,
   "id": "07c3b64a",
   "metadata": {},
   "outputs": [],
   "source": [
    "pi = np.pi       # 3.14...\n",
    "nx = 200         # number of grid points (fine grid)\n",
    "lx = pi          # length of the interval\n",
    "dx = lx / (nx-1) # grid spacing"
   ]
  },
  {
   "cell_type": "code",
   "execution_count": null,
   "id": "db530d6d",
   "metadata": {},
   "outputs": [],
   "source": [
    "x = np.linspace(0, lx, nx)   # coordinates for the fine grid\n",
    "f = np.exp(x)*np.sin(3*pi*x) # function on the fine grid\n",
    "\n",
    "# Let us build a numpy array for the exact repre-\n",
    "# sentation of the second-order derivative of f(x):\n",
    "ddf = np.exp(x)*(np.sin(3*pi*x) + 6*pi*np.cos(3*pi*x)-9*pi**2*np.sin(3*pi*x))"
   ]
  },
  {
   "cell_type": "markdown",
   "id": "75dca337",
   "metadata": {},
   "source": [
    "We now build a coarse grid with $80$ points, and evaluate the second-order derivative using the centered finite difference formula; note how we use the slicing technique we described in the previous notebook."
   ]
  },
  {
   "cell_type": "code",
   "execution_count": null,
   "id": "ba46eec5",
   "metadata": {},
   "outputs": [],
   "source": [
    "nx = 80 # number of grid points (coarse grid)\n",
    "lx = pi # length of interval\n",
    "dx = lx / (nx-1) # grid spacing\n",
    "x_c = np.linspace(0, lx, nx) # coordinates of points on the coarse grid\n",
    "\n",
    "f_c = np.exp(x_c)*np.sin(3*pi*x_c) # function on the coarse grid\n",
    "\n",
    "ddf_c = np.empty(nx)\n",
    "ddf_c[1:-1] = (f_c[:-2] -2*f_c[1:-1] +f_c[2:]) / dx**2 # boundary nodes are included"
   ]
  },
  {
   "cell_type": "code",
   "execution_count": null,
   "id": "3740d240",
   "metadata": {},
   "outputs": [],
   "source": [
    "fig, ax = plt.subplots(figsize=(10, 5))\n",
    "\n",
    "ax.plot(x[1:-1], ddf[1:-1])\n",
    "ax.plot(x_c[1:-1], ddf_c[1:-1], '^g')\n",
    "ax.set_xlabel('$x$')\n",
    "ax.set_ylabel('$f\\'$');"
   ]
  },
  {
   "cell_type": "markdown",
   "id": "c8aac833",
   "metadata": {},
   "source": [
    "As the centered formula for $f''$ is not defined at the boundary nodes, they have been excluded in the computation. But in the next section, we will provide information on how to cope with this issue.\n",
    "\n",
    "### Higher-order derivatives and one-sided stencils\n",
    "\n",
    "It should now be clear that the construction of finite difference formulas to compute differential operators can be done using Taylor's theorem. In general, as we increase the order of the derivative, we have to increase the number of points in the corresponding stencil. The construction of these stencils is not complicated and is well documented in several places, so we will not repeat it here. Instead we refer to the very detailed [Wikipedia][21] page that contains finite difference formulas for all the cases we use in this course, and many more.\n",
    "\n",
    "To make this notebook self contained, we list here some of the formulas we will/might need later on.\n",
    "\n",
    "We begin we some **centered finite difference** expressions:\n",
    "\n",
    "<br>\n",
    "<table class=\"wikitable\" style=\"text-align:center\">\n",
    "\t<tbody>\n",
    "\t\t<tr>\n",
    "\t\t\t<th>Derivative</th>\n",
    "\t\t\t<th>Accuracy</th>\n",
    "\t\t\t<th>&minus;3</th>\n",
    "\t\t\t<th>&minus;2</th>\n",
    "\t\t\t<th>&minus;1</th>\n",
    "\t\t\t<th>0</th>\n",
    "\t\t\t<th>1</th>\n",
    "\t\t\t<th>2</th>\n",
    "\t\t\t<th>3</th>\n",
    "\t\t</tr>\n",
    "\t\t<tr>\n",
    "\t\t\t<td rowspan=\"2\">1</td>\n",
    "\t\t\t<td>2</td>\n",
    "\t\t\t<td>&nbsp;</td>\n",
    "\t\t\t<td>&nbsp;</td>\n",
    "\t\t\t<td>&minus;1/2</td>\n",
    "\t\t\t<td>0</td>\n",
    "\t\t\t<td>1/2</td>\n",
    "\t\t\t<td>&nbsp;</td>\n",
    "\t\t\t<td>&nbsp;</td>\n",
    "\t\t</tr>\n",
    "\t\t<tr>\n",
    "\t\t\t<td>4</td>\n",
    "\t\t\t<td>&nbsp;</td>\n",
    "\t\t\t<td>1/12</td>\n",
    "\t\t\t<td>&minus;2/3</td>\n",
    "\t\t\t<td>0</td>\n",
    "\t\t\t<td>2/3</td>\n",
    "\t\t\t<td>&minus;1/12</td>\n",
    "\t\t\t<td>&nbsp;</td>\n",
    "\t\t</tr>\n",
    "\t\t<tr>\n",
    "\t\t\t<td rowspan=\"2\">2</td>\n",
    "\t\t\t<td>2</td>\n",
    "\t\t\t<td>&nbsp;</td>\n",
    "\t\t\t<td>&nbsp;</td>\n",
    "\t\t\t<td>1</td>\n",
    "\t\t\t<td>&minus;2</td>\n",
    "\t\t\t<td>1</td>\n",
    "\t\t\t<td>&nbsp;</td>\n",
    "\t\t\t<td>&nbsp;</td>\n",
    "\t\t</tr>\n",
    "\t\t<tr>\n",
    "\t\t\t<td>4</td>\n",
    "\t\t\t<td>&nbsp;</td>\n",
    "\t\t\t<td>&minus;1/12</td>\n",
    "\t\t\t<td>4/3</td>\n",
    "\t\t\t<td>&minus;5/2</td>\n",
    "\t\t\t<td>4/3</td>\n",
    "\t\t\t<td>&minus;1/12</td>\n",
    "\t\t\t<td>&nbsp;</td>\n",
    "\t\t</tr>\n",
    "\t\t<tr>\n",
    "\t\t\t<td rowspan=\"2\">3</td>\n",
    "\t\t\t<td>2</td>\n",
    "\t\t\t<td>&nbsp;</td>\n",
    "\t\t\t<td>&minus;1/2</td>\n",
    "\t\t\t<td>1</td>\n",
    "\t\t\t<td>0</td>\n",
    "\t\t\t<td>&minus;1</td>\n",
    "\t\t\t<td>1/2</td>\n",
    "\t\t\t<td>&nbsp;</td>\n",
    "\t\t</tr>\n",
    "\t\t<tr>\n",
    "\t\t\t<td>4</td>\n",
    "\t\t\t<td>1/8</td>\n",
    "\t\t\t<td>&minus;1</td>\n",
    "\t\t\t<td>13/8</td>\n",
    "\t\t\t<td>0</td>\n",
    "\t\t\t<td>&minus;13/8</td>\n",
    "\t\t\t<td>1</td>\n",
    "\t\t\t<td>&minus;1/8</td>\n",
    "\t\t</tr>\n",
    "\t\t<tr>\n",
    "\t\t\t<td rowspan=\"2\">4</td>\n",
    "\t\t\t<td>2</td>\n",
    "\t\t\t<td>&nbsp;</td>\n",
    "\t\t\t<td>1</td>\n",
    "\t\t\t<td>&minus;4</td>\n",
    "\t\t\t<td>6</td>\n",
    "\t\t\t<td>&minus;4</td>\n",
    "\t\t\t<td>1</td>\n",
    "\t\t\t<td>&nbsp;</td>\n",
    "\t\t</tr>\n",
    "\t\t<tr>\n",
    "\t\t\t<td>4</td>\n",
    "\t\t\t<td>&minus;1/6</td>\n",
    "\t\t\t<td>2</td>\n",
    "\t\t\t<td>&minus;13/2</td>\n",
    "\t\t\t<td>28/3</td>\n",
    "\t\t\t<td>&minus;13/2</td>\n",
    "\t\t\t<td>2</td>\n",
    "\t\t\t<td>&minus;1/6</td>\n",
    "\t\t</tr>\n",
    "\t</tbody>\n",
    "</table>\n",
    "\n",
    "You should recognize the centered difference stencils we have already discussed for the first- and second-order derivatives. Each line contains the coefficients $c_j$ to be applied at the corresponding stencil point; to complete the finite difference formula, we also need to divide the finite difference by $\\Delta x^k$ where $k$ is the order of derivative. For example, the second-order accurate formula for the fourth-order derivative is:\n",
    "\n",
    "\\begin{equation}\n",
    "f''''_i = \\frac{f_{i-2}-4f_{i-1}+6f_{i}-4f_{i+1}+f_{i+2}}{\\Delta x^4}.\n",
    "\\end{equation}\n",
    "\n",
    "Graphically we have:\n",
    "\n",
    "<img width=\"800px\" src=\"../figures/centeredDiff4.png\">\n",
    "\n",
    "We have seen that centered stencils are not applicable at boundary nodes. Thankfully, alternate finite difference formulas can be constructed for these nodes and the [Wikipedia][21]\n",
    "page also lists a large collections of such **one-sided formulas**. Here we limit our attention to first- and second-order accurate expressions.\n",
    "\n",
    "[21]: <https://en.wikipedia.org/wiki/Finite_difference_coefficient> \"list of finite difference formulas\"\n",
    "\n",
    "**Forward one-sided finite difference formulas:**\n",
    "\n",
    "<table class=\"wikitable\" style=\"text-align:center\">\n",
    "\t<tbody>\n",
    "\t\t<tr>\n",
    "\t\t\t<th>Derivative </th>\n",
    "\t\t\t<th>Accuracy </th>\n",
    "\t\t\t<th>0 </th>\n",
    "\t\t\t<th>1 </th>\n",
    "\t\t\t<th>2 </th>\n",
    "\t\t\t<th>3 </th>\n",
    "\t\t\t<th>4 </th>\n",
    "\t\t\t<th>5 </th>\n",
    "\t\t</tr>\n",
    "\t\t<tr>\n",
    "\t\t\t<td rowspan=\"2\">1 </td>\n",
    "\t\t\t<td>1</td>\n",
    "\t\t\t<td>−1</td>\n",
    "\t\t\t<td>1</td>\n",
    "\t\t\t<td>&nbsp;</td>\n",
    "\t\t\t<td>&nbsp;</td>\n",
    "\t\t\t<td>&nbsp;</td>\n",
    "\t\t\t<td>&nbsp;</td>\n",
    "\t\t</tr>\n",
    "\t\t<tr>\n",
    "\t\t\t<td>2</td>\n",
    "\t\t\t<td>−3/2</td>\n",
    "\t\t\t<td>2</td>\n",
    "\t\t\t<td>−1/2</td>\n",
    "\t\t\t<td>&nbsp;</td>\n",
    "\t\t\t<td>&nbsp;</td>\n",
    "\t\t\t<td>&nbsp;</td>\n",
    "\t\t</tr>\n",
    "\t\t<tr>\n",
    "\t\t\t<td rowspan=\"2\">2 </td>\n",
    "\t\t\t<td>1</td>\n",
    "\t\t\t<td>1</td>\n",
    "\t\t\t<td>−2</td>\n",
    "\t\t\t<td>1</td>\n",
    "\t\t\t<td>&nbsp;</td>\n",
    "\t\t\t<td>&nbsp;</td>\n",
    "\t\t\t<td>&nbsp;</td>\n",
    "\t\t</tr>\n",
    "\t\t<tr>\n",
    "\t\t\t<td>2</td>\n",
    "\t\t\t<td>2</td>\n",
    "\t\t\t<td>−5</td>\n",
    "\t\t\t<td>4</td>\n",
    "\t\t\t<td>−1</td>\n",
    "\t\t\t<td>&nbsp;</td>\n",
    "\t\t\t<td>&nbsp;</td>\n",
    "\t\t</tr>\n",
    "\t\t<tr>\n",
    "\t\t\t<td rowspan=\"2\">3 </td>\n",
    "\t\t\t<td>1</td>\n",
    "\t\t\t<td>−1</td>\n",
    "\t\t\t<td>3</td>\n",
    "\t\t\t<td>−3</td>\n",
    "\t\t\t<td>1</td>\n",
    "\t\t\t<td>&nbsp;</td>\n",
    "\t\t\t<td>&nbsp;</td>\n",
    "\t\t</tr>\n",
    "\t\t<tr>\n",
    "\t\t\t<td>2</td>\n",
    "\t\t\t<td>−5/2</td>\n",
    "\t\t\t<td>9</td>\n",
    "\t\t\t<td>−12</td>\n",
    "\t\t\t<td>7</td>\n",
    "\t\t\t<td>−3/2</td>\n",
    "\t\t\t<td>&nbsp;</td>\n",
    "\t\t</tr>\n",
    "\t\t<tr>\n",
    "\t\t\t<td rowspan=\"2\">4 </td>\n",
    "\t\t\t<td>1</td>\n",
    "\t\t\t<td>1</td>\n",
    "\t\t\t<td>−4</td>\n",
    "\t\t\t<td>6</td>\n",
    "\t\t\t<td>−4</td>\n",
    "\t\t\t<td>1</td>\n",
    "\t\t\t<td>&nbsp;</td>\n",
    "\t\t</tr>\n",
    "\t\t<tr>\n",
    "\t\t\t<td>2</td>\n",
    "\t\t\t<td>3</td>\n",
    "\t\t\t<td>−14</td>\n",
    "\t\t\t<td>26</td>\n",
    "\t\t\t<td>−24</td>\n",
    "\t\t\t<td>11</td>\n",
    "\t\t\t<td>−2</td>\n",
    "\t\t</tr>\n",
    "\t</tbody>\n",
    "</table>\n",
    "\n",
    "**Backward one-sided finite difference formulas:**\n",
    "\n",
    "<table class=\"wikitable\" style=\"text-align:center\">\n",
    "\t<tbody>\n",
    "\t\t<tr>\n",
    "\t\t\t<th>Derivative </th>\n",
    "\t\t\t<th>Accuracy </th>\n",
    "\t\t\t<th>−5 </th>\n",
    "\t\t\t<th>−4 </th>\n",
    "\t\t\t<th>−3 </th>\n",
    "\t\t\t<th>−2 </th>\n",
    "\t\t\t<th>−1 </th>\n",
    "\t\t\t<th>0 </th>\n",
    "\t\t</tr>\n",
    "\t\t<tr>\n",
    "\t\t\t<td rowspan=\"2\">1 </td>\n",
    "\t\t\t<td>1</td>\n",
    "\t\t\t<td>&nbsp;</td>\n",
    "\t\t\t<td>&nbsp;</td>\n",
    "\t\t\t<td>&nbsp;</td>\n",
    "\t\t\t<td>&nbsp;</td>\n",
    "\t\t\t<td>−1</td>\n",
    "\t\t\t<td>1 </td>\n",
    "\t\t</tr>\n",
    "\t\t<tr>\n",
    "\t\t\t<td>2</td>\n",
    "\t\t\t<td>&nbsp;</td>\n",
    "\t\t\t<td>&nbsp;</td>\n",
    "\t\t\t<td>&nbsp;</td>\n",
    "\t\t\t<td>1/2</td>\n",
    "\t\t\t<td>−2</td>\n",
    "\t\t\t<td>3/2 </td>\n",
    "\t\t</tr>\n",
    "\t\t<tr>\n",
    "\t\t\t<td rowspan=\"2\">2 </td>\n",
    "\t\t\t<td>1</td>\n",
    "\t\t\t<td>&nbsp;</td>\n",
    "\t\t\t<td>&nbsp;</td>\n",
    "\t\t\t<td>&nbsp;</td>\n",
    "\t\t\t<td>1</td>\n",
    "\t\t\t<td>−2</td>\n",
    "\t\t\t<td>1 </td>\n",
    "\t\t</tr>\n",
    "\t\t<tr>\n",
    "\t\t\t<td>2</td>\n",
    "\t\t\t<td>&nbsp;</td>\n",
    "\t\t\t<td>&nbsp;</td>\n",
    "\t\t\t<td>−1</td>\n",
    "\t\t\t<td>4</td>\n",
    "\t\t\t<td>−5</td>\n",
    "\t\t\t<td>2 </td>\n",
    "\t\t</tr>\n",
    "\t\t<tr>\n",
    "\t\t\t<td rowspan=\"2\">3 </td>\n",
    "\t\t\t<td>1</td>\n",
    "\t\t\t<td>&nbsp;</td>\n",
    "\t\t\t<td>&nbsp;</td>\n",
    "\t\t\t<td>−1</td>\n",
    "\t\t\t<td>3</td>\n",
    "\t\t\t<td>−3</td>\n",
    "\t\t\t<td>1 </td>\n",
    "\t\t</tr>\n",
    "\t\t<tr>\n",
    "\t\t\t<td>2</td>\n",
    "\t\t\t<td>&nbsp;</td>\n",
    "\t\t\t<td>3/2</td>\n",
    "\t\t\t<td>−7</td>\n",
    "\t\t\t<td>12</td>\n",
    "\t\t\t<td>−9</td>\n",
    "\t\t\t<td>5/2 </td>\n",
    "\t\t</tr>\n",
    "\t\t<tr>\n",
    "\t\t\t<td rowspan=\"2\">4 </td>\n",
    "\t\t\t<td>1</td>\n",
    "\t\t\t<td>&nbsp;</td>\n",
    "\t\t\t<td>1</td>\n",
    "\t\t\t<td>−4</td>\n",
    "\t\t\t<td>6</td>\n",
    "\t\t\t<td>−4</td>\n",
    "\t\t\t<td>1 </td>\n",
    "\t\t</tr>\n",
    "\t\t<tr>\n",
    "\t\t\t<td>2</td>\n",
    "\t\t\t<td>−2</td>\n",
    "\t\t\t<td>11</td>\n",
    "\t\t\t<td>−24</td>\n",
    "\t\t\t<td>26</td>\n",
    "\t\t\t<td>−14</td>\n",
    "\t\t\t<td>3 </td>\n",
    "\t\t</tr>\n",
    "\t</tbody>\n",
    "</table>"
   ]
  },
  {
   "cell_type": "markdown",
   "id": "4fba4b1e",
   "metadata": {},
   "source": [
    "Again, you should recognize the one-sided formulas we described in the previous notebook for the first-order derivative."
   ]
  },
  {
   "cell_type": "markdown",
   "id": "4e6fa930",
   "metadata": {},
   "source": [
    "## Functions"
   ]
  },
  {
   "cell_type": "markdown",
   "id": "d6f98d87",
   "metadata": {},
   "source": [
    "Up to now, we have explicitly written new Python code whenever we implemented a particular concept. In the long term, this is not convenient as we often need to re-use the same pieces of code over and over again. Fortunately, most programming languages - including Python - make this task easy to achieve through the use of *functions*. Don't confuse the concept of functions in programming languages and mathematical functions. This section is devoted to Python functions. Further in the course we will try to be explicit about what is meant but you can normally figure it out from the context. Before digging into more detail, let's consider an example. Say we want to create a (Python) function that computes the centered second-order derivative of some (mathematical) function. We may implement this function as follows (details about how to do this are given below):"
   ]
  },
  {
   "cell_type": "code",
   "execution_count": null,
   "id": "071f426d",
   "metadata": {},
   "outputs": [],
   "source": [
    "def compute_ddf_c(f):\n",
    "\n",
    "    ddf_c = np.empty_like(f)\n",
    "    ddf_c[1:-1] = f[:-2] -2*f[1:-1] +f[2:] # boundary nodes are not included\n",
    "    ddf_c[0] = 2*f[0] - 5*f[1] + 4*f[2] - f[3] # f'' at left boundary node\n",
    "    ddf_c[-1] = -f[-4] + 4*f[-3] -5*f[-2] + 2*f[-1] # f'' at right boundary node\n",
    "\n",
    "    return ddf_c / dx**2"
   ]
  },
  {
   "cell_type": "markdown",
   "id": "c39b1096",
   "metadata": {},
   "source": [
    "To compute the second-order derivative of our previously defined (mathematical) function `f_c`, we call the (Python) function like this:"
   ]
  },
  {
   "cell_type": "code",
   "execution_count": null,
   "id": "b75e5155",
   "metadata": {},
   "outputs": [],
   "source": [
    "ddf_c_from_func = compute_ddf_c(f_c)"
   ]
  },
  {
   "cell_type": "markdown",
   "id": "fa84b6da",
   "metadata": {},
   "source": [
    "The prototype of a Python function looks like this:"
   ]
  },
  {
   "cell_type": "code",
   "execution_count": null,
   "id": "ef28960f",
   "metadata": {},
   "outputs": [],
   "source": [
    "def some_function(parameters):\n",
    "\n",
    "    statements\n",
    "\n",
    "    return something"
   ]
  },
  {
   "cell_type": "markdown",
   "id": "36bc5b61",
   "metadata": {},
   "source": [
    "`parameters` is the list of arguments (e.g. variables, objects,...) that are passed to the function when calling it.\n",
    "\n",
    "`statements` constitute the actual Python commands executed within the function. These can be any legal Python code.\n",
    "\n",
    "`something` is what the programmer wants to provide as output from the function after execution of all the statements (e.g. the result of some arithmetic operations). The `return` statement is optional.\n",
    "\n",
    "To make things less abstract, let's discuss some examples.\n",
    "\n",
    "### Parameters"
   ]
  },
  {
   "cell_type": "code",
   "execution_count": null,
   "id": "c760c807",
   "metadata": {},
   "outputs": [],
   "source": [
    "def print_name_and_data(name, age, height, weight):\n",
    "    print(f'Hello, {name}. You are {age}, measure {height} m and weigh {weight} kg.')"
   ]
  },
  {
   "cell_type": "markdown",
   "id": "d6bf301c",
   "metadata": {},
   "source": [
    "The `print_name_and_data` function has four input parameters. It simply prints a statement using these four parameters and is called like this:"
   ]
  },
  {
   "cell_type": "code",
   "execution_count": null,
   "id": "56820f21",
   "metadata": {},
   "outputs": [],
   "source": [
    "print_name_and_data('Luke', 28, 1.75, 72)"
   ]
  },
  {
   "cell_type": "markdown",
   "id": "9884aa1e",
   "metadata": {},
   "source": [
    "The function requires four *positional arguments* and they must be supplied exactly like in its definition. The term \"positional arguments\" speaks for itself. Their position must be respected when you pass them to the function - the order must be the same as in the definition of a function. Calling the function like,"
   ]
  },
  {
   "cell_type": "code",
   "execution_count": null,
   "id": "ff91e96f",
   "metadata": {},
   "outputs": [],
   "source": [
    "print_name_and_data('Luke', 28, 72, 1.75)"
   ]
  },
  {
   "cell_type": "markdown",
   "id": "f4dd15ba",
   "metadata": {},
   "source": [
    "results in an undesired ouput. If you want to specify the arguments in the 'wrong' order, you may pass them as *keyword arguments:*"
   ]
  },
  {
   "cell_type": "code",
   "execution_count": null,
   "id": "a503ebc0",
   "metadata": {},
   "outputs": [],
   "source": [
    "print_name_and_data(age=28, name='Luke', weight=72, height=1.75)"
   ]
  },
  {
   "cell_type": "markdown",
   "id": "cecafdde",
   "metadata": {},
   "source": [
    "If you omit one or more of the parameters, Python will throw an error:"
   ]
  },
  {
   "cell_type": "code",
   "execution_count": null,
   "id": "bb42a13f",
   "metadata": {},
   "outputs": [],
   "source": [
    "print_name_and_data('Luke')"
   ]
  },
  {
   "cell_type": "markdown",
   "id": "b617e63d",
   "metadata": {},
   "source": [
    "You can mix positional and keyword parameters. The only restriction is that keyword arguments must come after all positional arguments:"
   ]
  },
  {
   "cell_type": "code",
   "execution_count": null,
   "id": "4d7d0dca",
   "metadata": {},
   "outputs": [],
   "source": [
    "print_name_and_data('Luke', 28, weight=72, height=1.75)"
   ]
  },
  {
   "cell_type": "markdown",
   "id": "26ea1cfe",
   "metadata": {},
   "source": [
    "You may also define the function with some default values for the parameters. In that case, they become optional and assume their default values when omitted in the function call. For example let's define a new function:"
   ]
  },
  {
   "cell_type": "code",
   "execution_count": null,
   "id": "749a1027",
   "metadata": {},
   "outputs": [],
   "source": [
    "def print_name_and_handedness(name, handedness='right-handed'):\n",
    "    print(f'Hello, {name}. You are {handedness}.')"
   ]
  },
  {
   "cell_type": "markdown",
   "id": "2e6267e6",
   "metadata": {},
   "source": [
    "If you call the function without passing the second argument, you get:"
   ]
  },
  {
   "cell_type": "code",
   "execution_count": null,
   "id": "13178088",
   "metadata": {},
   "outputs": [],
   "source": [
    "print_name_and_handedness('Luke')"
   ]
  },
  {
   "cell_type": "markdown",
   "id": "0762963c",
   "metadata": {},
   "source": [
    "But you can supply a different value if needed:"
   ]
  },
  {
   "cell_type": "code",
   "execution_count": null,
   "id": "38638f31",
   "metadata": {},
   "outputs": [],
   "source": [
    "print_name_and_handedness('Luke', 'left-handed')"
   ]
  },
  {
   "cell_type": "markdown",
   "id": "85575486",
   "metadata": {},
   "source": [
    "### Return statement"
   ]
  },
  {
   "cell_type": "markdown",
   "id": "e711f85d",
   "metadata": {},
   "source": [
    "The last statement of a function can be a `return` statement, with which the programmer can send some information or data produced within the function back to the main program or calling routine. As an example, let's define a function that returns the body mass index of an individual:"
   ]
  },
  {
   "cell_type": "code",
   "execution_count": null,
   "id": "d66c2c79",
   "metadata": {},
   "outputs": [],
   "source": [
    "def compute_bmi(name, height, weight):\n",
    "    print(f'Hello, {name}. I am returning your body mass index...')\n",
    "\n",
    "    bmi = weight / height**2\n",
    "\n",
    "    return bmi # we could have written directly: return weight / height**2"
   ]
  },
  {
   "cell_type": "markdown",
   "id": "78f77397",
   "metadata": {},
   "source": [
    "We can then store the return value in any variable like this:"
   ]
  },
  {
   "cell_type": "code",
   "execution_count": null,
   "id": "d0a54b8b",
   "metadata": {},
   "outputs": [],
   "source": [
    "luke_bmi = compute_bmi('Luke', 1.75, 70)\n",
    "print(luke_bmi)"
   ]
  },
  {
   "cell_type": "markdown",
   "id": "f80bfa75",
   "metadata": {},
   "source": [
    "The function can return any Python object (dictionaries, arrays, numbers, ...) or a collection of them. In the example below, we return the average of two numbers and their difference:"
   ]
  },
  {
   "cell_type": "code",
   "execution_count": null,
   "id": "6c6c78ae",
   "metadata": {},
   "outputs": [],
   "source": [
    "def compute_avg_diff(number1, number2):\n",
    "\n",
    "    average = 0.5 * (number1+number2)\n",
    "    difference = number1-number2\n",
    "\n",
    "    return average, difference"
   ]
  },
  {
   "cell_type": "markdown",
   "id": "18df222a",
   "metadata": {},
   "source": [
    "Note how the two return values are separated by a comma. This function can be called like this:"
   ]
  },
  {
   "cell_type": "code",
   "execution_count": null,
   "id": "f4894829",
   "metadata": {},
   "outputs": [],
   "source": [
    "avg1, diff1 = compute_avg_diff(10, 8)\n",
    "print(f'The average is {avg1} and the difference is {diff1}.')"
   ]
  },
  {
   "cell_type": "markdown",
   "id": "cd04a079",
   "metadata": {},
   "source": [
    "### Variable scope"
   ]
  },
  {
   "cell_type": "markdown",
   "id": "7df2d5a9",
   "metadata": {},
   "source": [
    "A very important concept when discussing functions is the so-called *scope* of a variable. There are generally speaking two types of variables: **global** variables or **local** variables. Global variables can be accessed anywhere in a program. Local variables can only be accessed within the function, in which they are defined. But you may always return their values outside of the function by using a `return` statement.\n",
    "\n",
    "Let first consider an example involving a global variable:"
   ]
  },
  {
   "cell_type": "code",
   "execution_count": null,
   "id": "713c0b2f",
   "metadata": {},
   "outputs": [],
   "source": [
    "def print_a():\n",
    "    print(a)"
   ]
  },
  {
   "cell_type": "code",
   "execution_count": null,
   "id": "921901d7",
   "metadata": {},
   "outputs": [],
   "source": [
    "a=1\n",
    "print_a()\n",
    "a=2\n",
    "print_a()"
   ]
  },
  {
   "cell_type": "markdown",
   "id": "c565bd8a",
   "metadata": {},
   "source": [
    "The code executed without errors and each time we modify `a` the function prints the correct value because this global variable, defined outside of the function, is accessible within the function. Let's try something else:"
   ]
  },
  {
   "cell_type": "code",
   "execution_count": null,
   "id": "a481f772",
   "metadata": {},
   "outputs": [],
   "source": [
    "def multiply_a_and_b(a, b):\n",
    "    prod = a*b\n",
    "    print(f'The product between a and b is {prod}.')"
   ]
  },
  {
   "cell_type": "code",
   "execution_count": null,
   "id": "d18bdacb",
   "metadata": {},
   "outputs": [],
   "source": [
    "prod = 3\n",
    "multiply_a_and_b(3, 6)\n",
    "print(f'Here prod is equal to {prod}.')"
   ]
  },
  {
   "cell_type": "markdown",
   "id": "6f93e3ac",
   "metadata": {},
   "source": [
    "Here we get two different outputs. Outside of the function, we have defined the global variable `prod` and assigned it the value $3$. But inside the function, we re-use the name `prod` to store the product of `a` and `b`. By doing so, we are creating a new variable `prod` that is qualified as a *local variable*. This variable only exists inside the function and when it is addressed by name in the function, it has *priority* over the global variable. The global variable will therefore not be changed by any statement in the function. You must be very careful with the usage of global variables, it's very easy to be confused about what you are doing if you or another programmer later introduces a local variable with the same name in a function. Usually, it is recommended to avoid using global variables or to really keep their numbers to a strict minimum.\n",
    "\n",
    "NB: there is a way to freely use global variables within the scope of a function; it requires the usage of the `global` keyword associated with a variable. But we won't document this feature as we discourage you to use it in the context of this course."
   ]
  },
  {
   "cell_type": "markdown",
   "id": "526ab4b4",
   "metadata": {},
   "source": [
    "### Beware passing by object reference in Python!"
   ]
  },
  {
   "cell_type": "markdown",
   "id": "ce090cca",
   "metadata": {},
   "source": [
    "There is another common source of errors when manipulating sequences (or numpy arrays) as arguments of functions. Remember what we discussed in the section \"Referenced or copied?\" of the previous notebook. We observed a fundamental difference when assigning a new name to a variable depending on whether it was a number or a list. We recall here two examples:"
   ]
  },
  {
   "cell_type": "code",
   "execution_count": null,
   "id": "81af5822",
   "metadata": {},
   "outputs": [],
   "source": [
    "a = 1\n",
    "b = a\n",
    "b = 2\n",
    "print(a)"
   ]
  },
  {
   "cell_type": "markdown",
   "id": "558869cd",
   "metadata": {},
   "source": [
    "In the second line of the above cell, we are referencing with `b` the same number as `a`. In the third line, we are changing the number to which `b` is referencing and this does not affect `a`. When we manipulate lists, the situation is different. Let's consider this example:"
   ]
  },
  {
   "cell_type": "code",
   "execution_count": null,
   "id": "46d0da38",
   "metadata": {},
   "outputs": [],
   "source": [
    "a = [0, 1, 2, 4]\n",
    "b = a\n",
    "b[0] = 5\n",
    "print(a)"
   ]
  },
  {
   "cell_type": "markdown",
   "id": "ef1a9a3c",
   "metadata": {},
   "source": [
    "In the second line of the cell, we are referencing with `b` the same sequence as `a` and we are not copying this sequence to another location in memory. So when we write `b[0] = 5` we are affecting the same list as if we had written `a[0] = 5`.\n",
    "\n",
    "Now consider how this can cause possible unwanted behaviors when calling functions:"
   ]
  },
  {
   "cell_type": "code",
   "execution_count": null,
   "id": "607ea16d",
   "metadata": {},
   "outputs": [],
   "source": [
    "def test_func(seq1):\n",
    "    sequence = seq1\n",
    "    sequence[0] = 0\n",
    "    print(f'Inside the function, the sequence is {sequence}.')"
   ]
  },
  {
   "cell_type": "code",
   "execution_count": null,
   "id": "226c37dd",
   "metadata": {},
   "outputs": [],
   "source": [
    "seq = [1, 1, 1, 1]\n",
    "test_func(seq)\n",
    "\n",
    "print(f'Outside of the function, the sequence is {seq}.')"
   ]
  },
  {
   "cell_type": "markdown",
   "id": "24da0e06",
   "metadata": {},
   "source": [
    "Because we did not make a copy of the original sequence when writing `sequence = seq1` we are changing its content with `sequence[0] = 0`. Therefore, such statements can have an effect outside of the function and you must be really careful depending on whether it is intended or not. If you do not want to modify the sequence outside of the function, you could write instead:"
   ]
  },
  {
   "cell_type": "code",
   "execution_count": null,
   "id": "f0e0cbe5",
   "metadata": {},
   "outputs": [],
   "source": [
    "def test_func(seq1):\n",
    "    sequence = seq1.copy()\n",
    "    sequence[0] = 0\n",
    "    print(f'Inside the function, the sequence is {sequence}.')"
   ]
  },
  {
   "cell_type": "code",
   "execution_count": null,
   "id": "ba77ed3c",
   "metadata": {},
   "outputs": [],
   "source": [
    "seq = [1, 1, 1, 1]\n",
    "test_func(seq)\n",
    "\n",
    "print(f'Outside of the function, the sequence is {seq}.')"
   ]
  },
  {
   "cell_type": "markdown",
   "id": "c663b3bd",
   "metadata": {},
   "source": [
    "Another possibility is:"
   ]
  },
  {
   "cell_type": "code",
   "execution_count": null,
   "id": "df82eea0",
   "metadata": {},
   "outputs": [],
   "source": [
    "def test_func(seq1):\n",
    "    sequence = seq1\n",
    "    sequence[0] = 0\n",
    "    print(f'Inside the function, the sequence is {sequence}.')"
   ]
  },
  {
   "cell_type": "code",
   "execution_count": null,
   "id": "c7565cdd",
   "metadata": {},
   "outputs": [],
   "source": [
    "seq = [1, 1, 1, 1]\n",
    "test_func(seq.copy())\n",
    "\n",
    "print(f'Outside of the function, the sequence is {seq}.')"
   ]
  },
  {
   "cell_type": "markdown",
   "id": "9074c91d",
   "metadata": {},
   "source": [
    "We prefer this second option, as the original sequence is never within reach of the inside the function. We explicitly call it with a copy of the sequence.\n",
    "\n",
    "One more word of caution: here we illustrated the possible outcomes using sequences of numbers. When the sequences contain nested Python objects and you don't want to affect the sequence at all inside the function, you must use `deepcopy()` instead of `copy()`. But this should not be a source of concern for the type of objects we manipulate in this course.\n",
    "\n",
    "## Matrix formulation\n",
    "\n",
    "At this stage we know how to build Python functions that return the derivatives of functions based on finite difference formulas. Conceptually, we have defined the *action* of differential operators on functions: we pass a function to a Python function and it returns the derivative. This means that we have not explicitly constructed the differential operator. For some problems, this is needed and in this section we show how this is done.\n",
    "\n",
    "Mathematically, we denote the action of any linear operator $\\cal{A}$ acting on a function $f$ as:\n",
    "\n",
    "\\begin{equation}\n",
    "    h(x)=\\cal{A}f(x)\n",
    "\\end{equation}\n",
    "\n",
    "If we discretize this equation on a numerical grid, we need a discretized version of the operator $\\cal{A}$ that maps the values of $f$ at the grid points onto the values of $h$ at the grid points. As the operation is linear, this mapping is done through the action of a matrix:\n",
    "\n",
    "\\begin{equation}\n",
    "    h_i=A_{ij}f_j\\;\\;\\;\\; \\hbox{(repeated indices are summed)}\n",
    "\\end{equation}\n",
    "\n",
    "Let's first lay out the matrix $A_{ij}$ corresponding to the centered (second-order accurate) first-order derivative; as we want to build the operator everywhere in the domain including the boundary nodes, we use second-order one-sided finite differences at these locations:\n",
    "\n",
    "\\begin{align}\n",
    "\\begin{pmatrix}\n",
    "    h_0 \\\\\n",
    "    h_1 \\\\\n",
    "    \\vdots \\\\\n",
    "    h_{j-1}\\\\\n",
    "    h_j \\\\\n",
    "    h_{j+1}\\\\\n",
    "    \\\\\n",
    "    \\vdots \\\\\n",
    "    h_{n-2} \\\\\n",
    "    h_{n-1}\n",
    "\\end{pmatrix}\n",
    "=\n",
    "\\frac{1}{\\Delta x}\n",
    "\\begin{pmatrix}\n",
    "-3/2 & 2 & -1/2 & 0 & 0 & \\dots & 0 & 0 & 0 & 0\\\\\n",
    "-1/2 & 0 & 1/2 & 0 & 0 & \\dots & 0 & 0 & 0 & 0 \\\\\n",
    "0 & -1/2 & 0 & 1/2 & 0 & \\dots & 0 & 0 & 0 & 0 \\\\\n",
    "0 & 0 & -1/2 & 0 & 1/2 & \\dots & 0 & 0 & 0 & 0 \\\\\n",
    "0 & \\dots & \\dots & \\dots & \\dots & \\dots & \\dots & \\dots & \\dots & 0 \\\\\n",
    "0 & \\dots & \\dots & \\dots & \\dots & \\dots & \\dots & \\dots & \\dots & 0 \\\\\n",
    "0 & 0 & 0 & 0  & \\dots & -1/2 & 0 & 1/2 & 0 & 0 \\\\\n",
    "0 & 0 & 0 & 0 & \\dots & 0 & -1/2 & 0 & 1/2 & 0 \\\\\n",
    "0 & 0 & 0 & 0 & \\dots & 0 & 0 & -1/2 & 0 & 1/2 \\\\\n",
    "0 & 0 & 0 & 0 & \\dots & 0 & 0 & 1/2 & -2 & 3/2\n",
    "\\end{pmatrix}\n",
    "\\begin{pmatrix}\n",
    "    f_0 \\\\\n",
    "    f_1 \\\\\n",
    "    \\vdots \\\\\n",
    "    f_{j-1}\\\\\n",
    "    f_j \\\\\n",
    "    f_{j+1}\\\\\n",
    "    \\\\\n",
    "    \\vdots \\\\\n",
    "    f_{n-2} \\\\\n",
    "    f_{n-1}\n",
    "\\end{pmatrix}\n",
    "\\end{align}\n",
    "\n",
    "By performing the matrix multiplication, we see that the matrix $A_{ij}$ produces exactly the desired mapping. We can now define a Python function to create this matrix. Its input parameters are the number of grid points and $\\Delta x$. Remember that in the `numpy` terminology, a matrix is considered a 2D array (`ndarray`).\n",
    "\n",
    "We use here the Python package `scipy` that we briefly described in the *01_Introduction* notebook. It contains a useful function, `diags` to create matrices that are essentially diagonal (you should look at its [documentation page][31] for its exact definition). A matrix is referred to as *sparse* when it contains mostly zeros, except at sparse locations; these are usually concentrated around the diagonal. The function `diags` belongs to the `sparse` submodule of `scipy` and you import it using the following command:\n",
    "\n",
    "[31]: <https://docs.scipy.org/doc/scipy/reference/generated/scipy.sparse.diags.html> \"documentation for scipy.sparse.diags\""
   ]
  },
  {
   "cell_type": "code",
   "execution_count": null,
   "id": "763d6478",
   "metadata": {},
   "outputs": [],
   "source": [
    "from scipy.sparse import diags"
   ]
  },
  {
   "cell_type": "code",
   "execution_count": null,
   "id": "003d1e3d",
   "metadata": {},
   "outputs": [],
   "source": [
    "def d1_mat(nx, dx):\n",
    "    \"\"\"\n",
    "    Constructs the centered second-order accurate first-order derivative\n",
    "\n",
    "    Parameters\n",
    "    ----------\n",
    "    nx : integer\n",
    "        number of grid points\n",
    "    dx : float\n",
    "        grid spacing\n",
    "\n",
    "    Returns\n",
    "    -------\n",
    "    d1mat : numpy.ndarray\n",
    "        matrix to compute the centered second-order accurate first-order derivative\n",
    "    \"\"\"\n",
    "    diagonals = [[-1./2.], [0], [1./2.]] # main diagonal elements\n",
    "    offsets = [-1, 0, 1] # positions of the diagonal entries relative to the main diagonal\n",
    "\n",
    "    # Call to the diags routine; note that diags returns a *representation* of the array;\n",
    "    # to explicitly obtain its ndarray realisation, the call to .toarray() is needed.\n",
    "    d1mat = diags(diagonals, offsets, shape=(nx,nx)).toarray()\n",
    "\n",
    "    # We replace the first and last lines of d1mat with the proper\n",
    "    # one-sided finite differences\n",
    "    d1mat[0, :3] = np.array([-3./2., 2, -1./2.]) # first line\n",
    "    d1mat[-1, -3:] = np.array([1./2., -2, 3./2.]) # second line\n",
    "\n",
    "    # Return the final array divided by the grid spacing\n",
    "    return d1mat / dx"
   ]
  },
  {
   "cell_type": "markdown",
   "id": "0a6a51ea",
   "metadata": {},
   "source": [
    "We can then obtain an instance of the array by calling `d1_mat`. As an example and to make sure the coefficients are properly set, we call it with a value of $\\Delta x=1$ and output the result:"
   ]
  },
  {
   "cell_type": "code",
   "execution_count": null,
   "id": "6c2889b9",
   "metadata": {},
   "outputs": [],
   "source": [
    "nx = 10 # number of grid points for the example\n",
    "dx = 1 # grid spacing"
   ]
  },
  {
   "cell_type": "code",
   "execution_count": null,
   "id": "b23cc055",
   "metadata": {},
   "outputs": [],
   "source": [
    "d1mat = d1_mat(nx, dx)\n",
    "print(d1mat)"
   ]
  },
  {
   "cell_type": "markdown",
   "id": "ed72b455",
   "metadata": {},
   "source": [
    "Looks good!\n",
    "\n",
    "Using exactly the same ideas, the explicit representation of a discrete version of the second-order derivative can be constructed. Here is a Python function that returns the matrix corresponding to the centered second-order accurate finite difference formula:"
   ]
  },
  {
   "cell_type": "code",
   "execution_count": null,
   "id": "692f19fb",
   "metadata": {},
   "outputs": [],
   "source": [
    "def d2_mat(nx, dx):\n",
    "    \"\"\"\n",
    "    Constructs the centered second-order accurate second-order derivative\n",
    "\n",
    "    Parameters\n",
    "    ----------\n",
    "    nx : integer\n",
    "        number of grid points\n",
    "    dx : float\n",
    "        grid spacing\n",
    "\n",
    "    Returns\n",
    "    -------\n",
    "    d2mat : numpy.ndarray\n",
    "        matrix to compute the centered second-order accurate first-order derivative\n",
    "    \"\"\"\n",
    "    diagonals = [[1.], [-2.], [1.]] # main diagonal elements\n",
    "    offsets = [-1, 0, 1] # positions of the diagonal entries relative to the main diagonal\n",
    "\n",
    "    # Call to the diags routine; note that diags return a representation of the array;\n",
    "    # to explicitly obtain its ndarray realisation, the call to .toarray() is needed.\n",
    "    d2mat = diags(diagonals, offsets, shape=(nx,nx)).toarray()\n",
    "\n",
    "    # We replace the first and last lines of d1mat with the proper\n",
    "    # one-sided finite differences\n",
    "    d2mat[0, :4] = np.array([2., -5, 4., -1.]) # first line\n",
    "    d2mat[-1, -4:] = np.array([-1., 4., -5., 2.]) # second line\n",
    "\n",
    "    # Return the final array divided by the grid spacing **2\n",
    "    return d2mat / dx**2"
   ]
  },
  {
   "cell_type": "markdown",
   "id": "a2dbab6e",
   "metadata": {},
   "source": [
    "Let's check again that everything works as expected:"
   ]
  },
  {
   "cell_type": "code",
   "execution_count": null,
   "id": "11098d99",
   "metadata": {},
   "outputs": [],
   "source": [
    "d2mat = d2_mat(nx, dx)\n",
    "print(d2mat)"
   ]
  },
  {
   "cell_type": "markdown",
   "id": "29903744",
   "metadata": {},
   "source": [
    "Again we obtain the desired result."
   ]
  },
  {
   "cell_type": "markdown",
   "id": "a26ace04",
   "metadata": {},
   "source": [
    "## Summary\n",
    "\n",
    "In this notebook we have explained how to obtain a second-order accurate finite difference formula for the second-order derivative of a function and we have provided recipes to construct many other differential operators - many more can be found on this [Wikipedia][1] page. We also discussed the concept of Python functions to produce re-usable pieces of source code. Finally, we have shown how to explicitly construct discrete versions of differential operators in matrix form. These will be used in the following notebook to solve what are known as boundary value problems.\n",
    "\n",
    "[1]: <https://en.wikipedia.org/wiki/Finite_difference_coefficient> \"list of finite difference formulas\""
   ]
  },
  {
   "cell_type": "code",
   "execution_count": null,
   "id": "332c1231",
   "metadata": {},
   "outputs": [],
   "source": [
    "from IPython.core.display import HTML\n",
    "css_file = '../styles/notebookstyle.css'\n",
    "HTML(open(css_file, 'r').read())"
   ]
  }
 ],
 "metadata": {
  "jupytext": {
   "formats": "ipynb,md:myst",
   "notebook_metadata_filter": "toc",
   "text_representation": {
    "extension": ".md",
    "format_name": "myst",
    "format_version": 0.13,
    "jupytext_version": "1.10.3"
   }
  },
  "kernelspec": {
   "display_name": "Python 3",
   "language": "python",
   "name": "python3"
  },
  "source_map": [
   26,
   35,
   40,
   46,
   53,
   85,
   92,
   99,
   103,
   115,
   122,
   436,
   440,
   444,
   448,
   457,
   461,
   463,
   467,
   473,
   485,
   488,
   492,
   494,
   498,
   500,
   504,
   506,
   510,
   512,
   516,
   518,
   522,
   525,
   529,
   531,
   535,
   537,
   541,
   545,
   552,
   556,
   559,
   563,
   570,
   574,
   577,
   581,
   587,
   592,
   597,
   601,
   607,
   611,
   617,
   621,
   625,
   630,
   634,
   639,
   645,
   652,
   657,
   661,
   668,
   673,
   677,
   684,
   689,
   760,
   764,
   795,
   799,
   804,
   807,
   813,
   844,
   848,
   851,
   855,
   863
  ],
  "toc": {
   "base_numbering": 1,
   "nav_menu": {},
   "number_sections": true,
   "sideBar": true,
   "skip_h1_title": true,
   "title_cell": "Table of Contents",
   "title_sidebar": "Contents",
   "toc_cell": true,
   "toc_position": {},
   "toc_section_display": true,
   "toc_window_display": false
  }
 },
 "nbformat": 4,
 "nbformat_minor": 5
}